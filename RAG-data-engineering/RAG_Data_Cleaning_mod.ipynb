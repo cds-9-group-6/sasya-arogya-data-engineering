{
 "cells": [
  {
   "cell_type": "code",
   "execution_count": 1,
   "id": "4136a561",
   "metadata": {},
   "outputs": [
    {
     "name": "stderr",
     "output_type": "stream",
     "text": [
      "c:\\Users\\HP\\AppData\\Local\\Programs\\Python\\Python310\\lib\\site-packages\\tqdm\\auto.py:21: TqdmWarning: IProgress not found. Please update jupyter and ipywidgets. See https://ipywidgets.readthedocs.io/en/stable/user_install.html\n",
      "  from .autonotebook import tqdm as notebook_tqdm\n"
     ]
    }
   ],
   "source": [
    "import pandas as pd\n",
    "import pandas as pd\n",
    "from langchain_openai import OpenAIEmbeddings\n",
    "from langchain_chroma import Chroma\n",
    "from langchain_groq import ChatGroq\n",
    "from langchain_community.chat_models import ChatOpenAI\n",
    "from langchain.docstore.document import Document\n",
    "from langchain_core.prompts import ChatPromptTemplate,PromptTemplate\n",
    "from langchain_community.vectorstores import chroma\n",
    "from langchain.text_splitter import RecursiveCharacterTextSplitter\n",
    "from langchain.llms import HuggingFacePipeline\n",
    "from langchain.embeddings import HuggingFaceEmbeddings\n",
    "from langchain_huggingface import HuggingFaceEndpoint\n",
    "from langchain import HuggingFacePipeline\n",
    "from transformers import pipeline\n",
    "# RAG Chain\n",
    "from langchain_core.output_parsers import StrOutputParser\n",
    "from langchain.chains import RetrievalQA\n",
    "from transformers import AutoModelForCausalLM,AutoTokenizer\n",
    "from transformers import AutoTokenizer, pipeline, AutoModelForCausalLM\n",
    "from langchain import HuggingFacePipeline\n",
    "import transformers\n",
    "import torch  \n",
    "import os\n",
    "from langchain_huggingface import HuggingFaceEmbeddings\n",
    "import numpy as np\n",
    "import calendar"
   ]
  },
  {
   "cell_type": "code",
   "execution_count": 2,
   "id": "6bb65f43",
   "metadata": {},
   "outputs": [],
   "source": [
    "crop_folders = os.listdir(r\".\\data\")"
   ]
  },
  {
   "cell_type": "code",
   "execution_count": 3,
   "id": "a430329a",
   "metadata": {},
   "outputs": [
    {
     "data": {
      "text/plain": [
       "['Apple', 'Coconut', 'Paddy', 'Potato', 'Tomato']"
      ]
     },
     "execution_count": 3,
     "metadata": {},
     "output_type": "execute_result"
    }
   ],
   "source": [
    "crop_folders"
   ]
  },
  {
   "cell_type": "markdown",
   "id": "9bf90840",
   "metadata": {},
   "source": [
    "#### Creating the Dataset from the folder structure"
   ]
  },
  {
   "cell_type": "code",
   "execution_count": 4,
   "id": "7e50c778",
   "metadata": {},
   "outputs": [
    {
     "name": "stderr",
     "output_type": "stream",
     "text": [
      "C:\\Users\\HP\\AppData\\Local\\Temp\\ipykernel_19076\\1428455704.py:20: DtypeWarning: Columns (8) have mixed types. Specify dtype option on import or set low_memory=False.\n",
      "  df = pd.read_csv(file_path)\n",
      "C:\\Users\\HP\\AppData\\Local\\Temp\\ipykernel_19076\\1428455704.py:20: DtypeWarning: Columns (8) have mixed types. Specify dtype option on import or set low_memory=False.\n",
      "  df = pd.read_csv(file_path)\n",
      "C:\\Users\\HP\\AppData\\Local\\Temp\\ipykernel_19076\\1428455704.py:27: FutureWarning: The behavior of DataFrame concatenation with empty or all-NA entries is deprecated. In a future version, this will no longer exclude empty or all-NA columns when determining the result dtypes. To retain the old behavior, exclude the relevant entries before the concat operation.\n",
      "  big_df = pd.concat(dfs, ignore_index=True)\n"
     ]
    }
   ],
   "source": [
    "import os\n",
    "import pandas as pd\n",
    "\n",
    "# Path where these folders are located\n",
    "base_path = r\".\\data\"   # <-- change this to your actual root directory\n",
    "\n",
    "# Empty list to hold all DataFrames\n",
    "dfs = []\n",
    "\n",
    "# Loop through each folder\n",
    "for folder in crop_folders:\n",
    "    folder_path = os.path.join(base_path, folder)\n",
    "    \n",
    "    # Ensure folder exists\n",
    "    if os.path.isdir(folder_path):\n",
    "        # Loop through files in the folder\n",
    "        for file in os.listdir(folder_path):\n",
    "            if file.endswith(\".csv\"):   # only process CSV files\n",
    "                file_path = os.path.join(folder_path, file)\n",
    "                df = pd.read_csv(file_path)\n",
    "                \n",
    "                df[\"disease_name\"] = os.path.splitext(file)[0].split(folder + \"_\")[1].replace(\"_\",\" \")\n",
    "                \n",
    "                dfs.append(df)\n",
    "\n",
    "# Concatenate all DataFrames into one big DataFrame\n",
    "big_df = pd.concat(dfs, ignore_index=True)\n",
    "\n"
   ]
  },
  {
   "cell_type": "code",
   "execution_count": 5,
   "id": "23d47810",
   "metadata": {},
   "outputs": [],
   "source": [
    "big_df[\"QueryText\"] = big_df[\"QueryText\"].str.strip()"
   ]
  },
  {
   "cell_type": "code",
   "execution_count": 6,
   "id": "685a7ca7",
   "metadata": {},
   "outputs": [],
   "source": [
    "big_df[\"disease_name\"] = big_df[\"disease_name\"].str.strip()"
   ]
  },
  {
   "cell_type": "code",
   "execution_count": 7,
   "id": "4b7be208",
   "metadata": {},
   "outputs": [
    {
     "data": {
      "text/plain": [
       "598706"
      ]
     },
     "execution_count": 7,
     "metadata": {},
     "output_type": "execute_result"
    }
   ],
   "source": [
    "len(big_df)"
   ]
  },
  {
   "cell_type": "markdown",
   "id": "1d586799",
   "metadata": {},
   "source": [
    "#### Dropping the answer columns which are empty"
   ]
  },
  {
   "cell_type": "code",
   "execution_count": 8,
   "id": "8363a5de",
   "metadata": {},
   "outputs": [],
   "source": [
    "big_df = big_df.dropna(subset=\"KccAns\")"
   ]
  },
  {
   "cell_type": "markdown",
   "id": "e581df8f",
   "metadata": {},
   "source": [
    "#### Getting the Calender names from the month numbers"
   ]
  },
  {
   "cell_type": "code",
   "execution_count": 9,
   "id": "ff69a060",
   "metadata": {},
   "outputs": [],
   "source": [
    "\n",
    "big_df[\"Month\"] = big_df[\"Month\"].apply(lambda x: calendar.month_name[x])"
   ]
  },
  {
   "cell_type": "markdown",
   "id": "c934d181",
   "metadata": {},
   "source": [
    "#### Selecting only those columns to input into the vector DB"
   ]
  },
  {
   "cell_type": "code",
   "execution_count": 10,
   "id": "daf0af34",
   "metadata": {},
   "outputs": [],
   "source": [
    "big_df = big_df[[\"DistrictName\",\"StateName\",\"Season\",\"Month\",\"disease_name\",\"QueryText\",\"KccAns\",\"Crop\"]]"
   ]
  },
  {
   "cell_type": "markdown",
   "id": "395d3079",
   "metadata": {},
   "source": [
    "#### Getting the word count of the answer column and filtering out which has empty spaces"
   ]
  },
  {
   "cell_type": "code",
   "execution_count": 11,
   "id": "6b11507b",
   "metadata": {},
   "outputs": [
    {
     "name": "stdout",
     "output_type": "stream",
     "text": [
      "                                               KccAns  word_count\n",
      "0   KEEP 60 CM SOIL AROUND TREES TRUNKS UNDISTURDE...           9\n",
      "1   THE CONTROL OF ALTERNARIA LEAF BLOTCH IN APPLE...          19\n",
      "23  It is advised to the farmer spray one of the f...          73\n",
      "24  -- It is advised to the farmer spray In case r...          65\n",
      "25  Fruit develop ment-IV     X 12-18 days after V...          70\n"
     ]
    }
   ],
   "source": [
    "big_df[\"word_count\"] = big_df[\"KccAns\"].astype(str).apply(lambda x: len(x.split()))\n",
    "\n",
    "print(big_df[[\"KccAns\", \"word_count\"]].head())"
   ]
  },
  {
   "cell_type": "code",
   "execution_count": 12,
   "id": "9566d4b7",
   "metadata": {},
   "outputs": [],
   "source": [
    "big_df = big_df[big_df[\"word_count\"]>1]"
   ]
  },
  {
   "cell_type": "code",
   "execution_count": 13,
   "id": "c6b5f728",
   "metadata": {},
   "outputs": [
    {
     "data": {
      "text/plain": [
       "516124"
      ]
     },
     "execution_count": 13,
     "metadata": {},
     "output_type": "execute_result"
    }
   ],
   "source": [
    "len(big_df)"
   ]
  },
  {
   "cell_type": "code",
   "execution_count": 14,
   "id": "d4fe9ebd",
   "metadata": {},
   "outputs": [],
   "source": [
    "# Display all rows\n",
    "pd.set_option('display.max_rows', None)\n",
    "\n",
    "# Display full column width (not truncated)\n",
    "pd.set_option('display.max_colwidth', None)"
   ]
  },
  {
   "cell_type": "markdown",
   "id": "c9f72c26",
   "metadata": {},
   "source": [
    "#### Dropping all the duplicate rows present in the dataframe"
   ]
  },
  {
   "cell_type": "code",
   "execution_count": 15,
   "id": "415fb1c8",
   "metadata": {},
   "outputs": [],
   "source": [
    "big_df = big_df.drop_duplicates()"
   ]
  },
  {
   "cell_type": "markdown",
   "id": "22326a1d",
   "metadata": {},
   "source": [
    "#### Selecting again only those duplicates present for \"StateName\",\"QueryText\",\"KccAns\""
   ]
  },
  {
   "cell_type": "code",
   "execution_count": 16,
   "id": "89f5bd0b",
   "metadata": {},
   "outputs": [],
   "source": [
    "big_df= big_df.drop_duplicates([\"StateName\",\"QueryText\",\"KccAns\"])"
   ]
  },
  {
   "cell_type": "markdown",
   "id": "54426ec0",
   "metadata": {},
   "source": [
    "#### Filtering the rows which only have numbers in them"
   ]
  },
  {
   "cell_type": "code",
   "execution_count": 17,
   "id": "a373a35a",
   "metadata": {},
   "outputs": [],
   "source": [
    "def row_only_digits(row):\n",
    "    return all(word.isdigit() for word in row.split())\n",
    "\n",
    "# Apply to the column\n",
    "big_df = big_df[~big_df[\"KccAns\"].apply(row_only_digits)]"
   ]
  },
  {
   "cell_type": "code",
   "execution_count": 18,
   "id": "c16f1978",
   "metadata": {},
   "outputs": [
    {
     "data": {
      "text/plain": [
       "189831"
      ]
     },
     "execution_count": 18,
     "metadata": {},
     "output_type": "execute_result"
    }
   ],
   "source": [
    "len(big_df)"
   ]
  },
  {
   "cell_type": "markdown",
   "id": "b4a07011",
   "metadata": {},
   "source": [
    "#### Getting the word count for the queries"
   ]
  },
  {
   "cell_type": "code",
   "execution_count": 19,
   "id": "a6bddd46",
   "metadata": {},
   "outputs": [],
   "source": [
    "big_df[\"query_word_count\"] = big_df[\"QueryText\"].astype(str).apply(lambda x: len(x.split()))\n",
    "\n",
    "# print(big_df[[\"KccAns\", \"word_count\"]].head())"
   ]
  },
  {
   "cell_type": "markdown",
   "id": "87913c8d",
   "metadata": {},
   "source": [
    "#### Getting the rows whuch have a word count greater than 2 in the query "
   ]
  },
  {
   "cell_type": "code",
   "execution_count": 20,
   "id": "0f3693cd",
   "metadata": {},
   "outputs": [],
   "source": [
    "big_df = big_df[big_df[\"query_word_count\"]>2]"
   ]
  },
  {
   "cell_type": "markdown",
   "id": "1f357a81",
   "metadata": {},
   "source": [
    "#### Reseting the index"
   ]
  },
  {
   "cell_type": "code",
   "execution_count": 21,
   "id": "ebe321fb",
   "metadata": {},
   "outputs": [],
   "source": [
    "big_df.reset_index(inplace=True,drop=True)"
   ]
  },
  {
   "cell_type": "code",
   "execution_count": 22,
   "id": "3acd6bc0",
   "metadata": {},
   "outputs": [
    {
     "data": {
      "text/html": [
       "<div>\n",
       "<style scoped>\n",
       "    .dataframe tbody tr th:only-of-type {\n",
       "        vertical-align: middle;\n",
       "    }\n",
       "\n",
       "    .dataframe tbody tr th {\n",
       "        vertical-align: top;\n",
       "    }\n",
       "\n",
       "    .dataframe thead th {\n",
       "        text-align: right;\n",
       "    }\n",
       "</style>\n",
       "<table border=\"1\" class=\"dataframe\">\n",
       "  <thead>\n",
       "    <tr style=\"text-align: right;\">\n",
       "      <th></th>\n",
       "      <th>DistrictName</th>\n",
       "      <th>StateName</th>\n",
       "      <th>Season</th>\n",
       "      <th>Month</th>\n",
       "      <th>disease_name</th>\n",
       "      <th>QueryText</th>\n",
       "      <th>KccAns</th>\n",
       "      <th>Crop</th>\n",
       "      <th>word_count</th>\n",
       "      <th>query_word_count</th>\n",
       "    </tr>\n",
       "  </thead>\n",
       "  <tbody>\n",
       "    <tr>\n",
       "      <th>0</th>\n",
       "      <td>ANANTNAG</td>\n",
       "      <td>JAMMU AND KASHMIR</td>\n",
       "      <td>JAYAD</td>\n",
       "      <td>June</td>\n",
       "      <td>Alternaria leaf blotch</td>\n",
       "      <td>CONTROL OF ALTERNARIA LEAF BLOTCH IN APPLE TREE</td>\n",
       "      <td>KEEP 60 CM SOIL AROUND TREES TRUNKS UNDISTURDED ON-SEASON</td>\n",
       "      <td>Apple</td>\n",
       "      <td>9</td>\n",
       "      <td>8</td>\n",
       "    </tr>\n",
       "    <tr>\n",
       "      <th>1</th>\n",
       "      <td>BARAMULLA</td>\n",
       "      <td>JAMMU AND KASHMIR</td>\n",
       "      <td>JAYAD</td>\n",
       "      <td>June</td>\n",
       "      <td>Alternaria leaf blotch</td>\n",
       "      <td>FARMER WANTS INFORMATION ABOUT THE CONTROL OF ALTERNARIA LEAF BLOTCH IN APPLE TREES</td>\n",
       "      <td>THE CONTROL OF ALTERNARIA LEAF BLOTCH IN APPLE TREES IS TO SPRAY WITH BITERTANOL 25 EC  50G100LTRS OF WATER</td>\n",
       "      <td>Apple</td>\n",
       "      <td>19</td>\n",
       "      <td>13</td>\n",
       "    </tr>\n",
       "  </tbody>\n",
       "</table>\n",
       "</div>"
      ],
      "text/plain": [
       "  DistrictName          StateName Season Month            disease_name  \\\n",
       "0     ANANTNAG  JAMMU AND KASHMIR  JAYAD  June  Alternaria leaf blotch   \n",
       "1    BARAMULLA  JAMMU AND KASHMIR  JAYAD  June  Alternaria leaf blotch   \n",
       "\n",
       "                                                                             QueryText  \\\n",
       "0                                      CONTROL OF ALTERNARIA LEAF BLOTCH IN APPLE TREE   \n",
       "1  FARMER WANTS INFORMATION ABOUT THE CONTROL OF ALTERNARIA LEAF BLOTCH IN APPLE TREES   \n",
       "\n",
       "                                                                                                        KccAns  \\\n",
       "0                                                    KEEP 60 CM SOIL AROUND TREES TRUNKS UNDISTURDED ON-SEASON   \n",
       "1  THE CONTROL OF ALTERNARIA LEAF BLOTCH IN APPLE TREES IS TO SPRAY WITH BITERTANOL 25 EC  50G100LTRS OF WATER   \n",
       "\n",
       "    Crop  word_count  query_word_count  \n",
       "0  Apple           9                 8  \n",
       "1  Apple          19                13  "
      ]
     },
     "execution_count": 22,
     "metadata": {},
     "output_type": "execute_result"
    }
   ],
   "source": [
    "big_df.head(2)"
   ]
  },
  {
   "cell_type": "code",
   "execution_count": 23,
   "id": "d9f01ff5",
   "metadata": {},
   "outputs": [
    {
     "data": {
      "text/plain": [
       "70"
      ]
     },
     "execution_count": 23,
     "metadata": {},
     "output_type": "execute_result"
    }
   ],
   "source": [
    "len(big_df[\"disease_name\"].unique())"
   ]
  },
  {
   "cell_type": "code",
   "execution_count": 24,
   "id": "58cd41bc",
   "metadata": {},
   "outputs": [
    {
     "data": {
      "text/plain": [
       "array(['Alternaria leaf blotch', 'Blossom thrips', 'Codling moth',\n",
       "       'Collar rot', 'Crown gall', 'European red mite', 'Fire blight',\n",
       "       'Leaf miner', 'leaf roller', 'Marssonina leaf blotch',\n",
       "       'mosaic virus', 'Powdery mildew', 'root borer', 'Rust',\n",
       "       'San Jose scale', 'scab', 'stem borer', 'White root rot',\n",
       "       'Woolly aphid', 'Bud rot', 'caterpillar', 'Crown rot',\n",
       "       'eriophyid mite', 'Ganoderma wilt', 'Grey leaf blight',\n",
       "       'Leaf blight', 'Red palm weevil', 'Rhinoceros beetle',\n",
       "       'Root wilt disease', 'Scale insects', 'Stem bleeding disease',\n",
       "       'Termites', 'White grub', 'Dhan Armyworm', 'Dhan Bacterial blight',\n",
       "       'Dhan Bakanae', 'Dhan Blast', 'Dhan Brown planthopper',\n",
       "       'Dhan Brown spot', 'Dhan ear cutting caterpillar',\n",
       "       'Dhan False smut', 'Dhan Grain discoloration',\n",
       "       'Dhan Green leafhopper', 'Dhan hispa', 'Dhan Leaf folder',\n",
       "       'Dhan Leaf scald', 'Dhan mealy bug', 'Dhan root weevil',\n",
       "       'Dhan Sheath blight', 'Dhan Sheath rot', 'Dhan stem borer',\n",
       "       'Dhan Tungro virus', 'Aphids', 'Bacterial wilt', 'Black scurf',\n",
       "       'Brown rot', 'Common scab', 'Cutworms', 'Early blight', 'Jassids',\n",
       "       'Late blight', 'Leaf roll virus', 'Red spider mite', 'Thrips',\n",
       "       'tuber moth', 'Fruit borer', 'Septoria leaf spot',\n",
       "       'Tobacco caterpillar', '', 'Whiteflies'], dtype=object)"
      ]
     },
     "execution_count": 24,
     "metadata": {},
     "output_type": "execute_result"
    }
   ],
   "source": [
    "big_df[\"disease_name\"].unique()"
   ]
  },
  {
   "cell_type": "code",
   "execution_count": 25,
   "id": "60fcc025",
   "metadata": {},
   "outputs": [
    {
     "data": {
      "text/plain": [
       "182713"
      ]
     },
     "execution_count": 25,
     "metadata": {},
     "output_type": "execute_result"
    }
   ],
   "source": [
    "len(big_df)"
   ]
  },
  {
   "cell_type": "markdown",
   "id": "3d324454",
   "metadata": {},
   "source": [
    "### Creating the TF-IDF cosine similarity to filter out rows which are more than 65% similar\n",
    "#### Don't use"
   ]
  },
  {
   "cell_type": "code",
   "execution_count": null,
   "id": "092962b4",
   "metadata": {},
   "outputs": [],
   "source": [
    "# import pandas as pd\n",
    "# from sklearn.feature_extraction.text import TfidfVectorizer\n",
    "# from sklearn.metrics.pairwise import cosine_similarity\n",
    "\n",
    "# df = big_df.copy()\n",
    "\n",
    "# # Create a combined text column\n",
    "# df[\"combined\"] = df[\"QueryText\"].astype(str) + \" \" + df[\"KccAns\"].astype(str)\n",
    "\n",
    "# # To store filtered rows\n",
    "# filtered_rows = []\n",
    "\n",
    "# # Loop through each crop and disease\n",
    "# for crop in df[\"Crop\"].unique():\n",
    "#     crop_df = df[df[\"Crop\"] == crop]\n",
    "#     for disease in crop_df[\"disease_name\"].unique():\n",
    "#         temp_df = crop_df[crop_df[\"disease_name\"] == disease].copy()\n",
    "#         temp_df = temp_df.reset_index(drop=True)\n",
    "        \n",
    "#         # Copy of dataframe for comparison\n",
    "#         compare_df = temp_df.copy()\n",
    "        \n",
    "#         to_keep_indices = []\n",
    "        \n",
    "#         # Loop through each row in temp_df\n",
    "#         for idx, row in temp_df.iterrows():\n",
    "\n",
    "#             if idx not in compare_df.index:\n",
    "#                 continue\n",
    "            \n",
    "#             combined_text = row[\"combined\"]\n",
    "            \n",
    "#             if compare_df.empty:\n",
    "#                 break\n",
    "            \n",
    "#             # Compute cosine similarity between current row and all rows in compare_df\n",
    "#             tfidf = TfidfVectorizer()\n",
    "#             texts = [combined_text] + compare_df[\"combined\"].tolist()\n",
    "#             tfidf_matrix = tfidf.fit_transform(texts)\n",
    "#             cos_sim = cosine_similarity(tfidf_matrix[0:1], tfidf_matrix[1:]).flatten()\n",
    "            \n",
    "#             # print(cos_sim)\n",
    "#             # Keep current row\n",
    "#             to_keep_indices.append(idx)\n",
    "            \n",
    "#             # Delete rows in compare_df that are too similar (>0.75) and same exact Q+A\n",
    "#             delete_indices = compare_df.index[(cos_sim > 0.65) |\n",
    "#                                               (compare_df[\"combined\"] == combined_text)]\n",
    "            \n",
    "#             compare_df = compare_df.drop(delete_indices)\n",
    "        \n",
    "#         filtered_rows.append(temp_df.loc[to_keep_indices])\n",
    "\n",
    "# # Combine all filtered data\n",
    "# final_df = pd.concat(filtered_rows).reset_index(drop=True)\n",
    "\n",
    "# print(cos_sim)\n",
    "\n",
    "# print(final_df)\n"
   ]
  },
  {
   "cell_type": "code",
   "execution_count": 27,
   "id": "0f3f3360",
   "metadata": {},
   "outputs": [
    {
     "data": {
      "text/plain": [
       "Index(['DistrictName', 'StateName', 'Season', 'Month', 'disease_name',\n",
       "       'QueryText', 'KccAns', 'Crop', 'word_count', 'query_word_count'],\n",
       "      dtype='object')"
      ]
     },
     "execution_count": 27,
     "metadata": {},
     "output_type": "execute_result"
    }
   ],
   "source": [
    "big_df.columns"
   ]
  },
  {
   "cell_type": "markdown",
   "id": "01753e2e",
   "metadata": {},
   "source": [
    "#### Creating a Copy of df and creating the combined column of QueryText and KccAns"
   ]
  },
  {
   "cell_type": "code",
   "execution_count": 28,
   "id": "aa08da93",
   "metadata": {},
   "outputs": [],
   "source": [
    "df = big_df.copy()"
   ]
  },
  {
   "cell_type": "code",
   "execution_count": 29,
   "id": "4e639e41",
   "metadata": {},
   "outputs": [],
   "source": [
    "df[\"combined\"] = df[\"QueryText\"].astype(str) + \" \" + df[\"KccAns\"].astype(str)"
   ]
  },
  {
   "cell_type": "markdown",
   "id": "d0d43457",
   "metadata": {},
   "source": [
    "#### Using Sentence Transformer library to create embeddings for the combined column"
   ]
  },
  {
   "cell_type": "code",
   "execution_count": 30,
   "id": "d9f4048a",
   "metadata": {},
   "outputs": [],
   "source": [
    "# tfidf = TfidfVectorizer()\n",
    "from sentence_transformers import SentenceTransformer, util\n",
    "# texts = [combined_text] + compare_df[\"combined\"].tolist()\n",
    "# tfidf_matrix = tfidf.fit_transform(texts)\n",
    "model = SentenceTransformer('multi-qa-MiniLM-L6-cos-v1', device='cuda')  # 'cuda' if GPU, 'cpu' otherwise\n"
   ]
  },
  {
   "cell_type": "code",
   "execution_count": null,
   "id": "c87b9635",
   "metadata": {},
   "outputs": [],
   "source": [
    "embeddings = model.encode(df[\"combined\"].tolist(), convert_to_tensor=False)"
   ]
  },
  {
   "cell_type": "code",
   "execution_count": 47,
   "id": "26d4ae86",
   "metadata": {},
   "outputs": [],
   "source": [
    "df[\"vectors\"] = [np.array(e) for e in embeddings]"
   ]
  },
  {
   "cell_type": "code",
   "execution_count": null,
   "id": "bb34924a",
   "metadata": {},
   "outputs": [],
   "source": [
    "df.head(2)"
   ]
  },
  {
   "cell_type": "markdown",
   "id": "edcd66c4",
   "metadata": {},
   "source": [
    "#### Furthur filtering by StateName and using Hugging Face Embeddings to perform cosine similarity operations\n",
    "### Don't use"
   ]
  },
  {
   "cell_type": "code",
   "execution_count": 49,
   "id": "4cbc8b9b",
   "metadata": {},
   "outputs": [],
   "source": [
    "# import pandas as pd\n",
    "# from sklearn.feature_extraction.text import TfidfVectorizer\n",
    "# from sklearn.metrics.pairwise import cosine_similarity\n",
    "# import numpy as np\n",
    "\n",
    "# # df = big_df.copy()\n",
    "\n",
    "# # Create a combined text column\n",
    "# # df[\"combined\"] = df[\"QueryText\"].astype(str) + \" \" + df[\"KccAns\"].astype(str)\n",
    "\n",
    "# # To store filtered rows\n",
    "# filtered_rows = []\n",
    "\n",
    "# # Loop through each crop and disease\n",
    "# for crop in df[\"Crop\"].unique():\n",
    "\n",
    "#     crop_df = df[df[\"Crop\"] == crop]\n",
    "\n",
    "#     for disease in crop_df[\"disease_name\"].unique():\n",
    "\n",
    "#         temp_df = crop_df[crop_df[\"disease_name\"] == disease]\n",
    "\n",
    "#         for state in temp_df[\"StateName\"].unique():\n",
    "\n",
    "#             temp_df2 = temp_df[temp_df[\"StateName\"] == state].copy()\n",
    "\n",
    "#             temp_df2 = temp_df2.reset_index(drop=True)\n",
    "            \n",
    "#             # Copy of dataframe for comparison\n",
    "#             compare_df = temp_df2.copy()\n",
    "            \n",
    "#             to_keep_indices = []\n",
    "            \n",
    "#             # Loop through each row in temp_df\n",
    "#             for idx, row in temp_df2.iterrows():\n",
    "\n",
    "#                 if idx not in compare_df.index:\n",
    "#                     continue\n",
    "                \n",
    "#                 combined_text = row[\"vectors\"]\n",
    "                \n",
    "#                 if compare_df.empty:\n",
    "#                     break\n",
    "                \n",
    "#                 # Compute cosine similarity between current row and all rows in compare_df\n",
    "#                 # tfidf = TfidfVectorizer()\n",
    "#                 # texts = [combined_text] + compare_df[\"vectors\"].tolist()\n",
    "\n",
    "#                 compare_vectors = np.stack(compare_df[\"vectors\"].values) \n",
    "#                 # tfidf_matrix = tfidf.fit_transform(texts)\n",
    "#                 # cos_sim = cosine_similarity(texts[0:1], texts[1:]).flatten()\n",
    "\n",
    "#                 cos_sim = cosine_similarity(combined_text.reshape(1, -1), compare_vectors).flatten()\n",
    "                \n",
    "#                 # print(cos_sim)\n",
    "#                 # Keep current row\n",
    "#                 to_keep_indices.append(idx)\n",
    "                \n",
    "#                 # Delete rows in compare_df that are too similar (>0.75) and same exact Q+A\n",
    "#                 delete_indices = compare_df.index[(cos_sim > 0.80)]\n",
    "                \n",
    "#                 compare_df = compare_df.drop(delete_indices)\n",
    "            \n",
    "#             filtered_rows.append(temp_df2.loc[to_keep_indices])\n",
    "\n",
    "# # Combine all filtered data\n",
    "# final_df = pd.concat(filtered_rows).reset_index(drop=True)\n",
    "\n",
    "# print(cos_sim)\n",
    "\n",
    "# print(final_df)\n"
   ]
  },
  {
   "cell_type": "markdown",
   "id": "c7612849",
   "metadata": {},
   "source": [
    "#### Using Hugging Face Embeddings to perform cosine similarity operations"
   ]
  },
  {
   "cell_type": "code",
   "execution_count": 50,
   "id": "23fa871a",
   "metadata": {},
   "outputs": [
    {
     "name": "stdout",
     "output_type": "stream",
     "text": [
      "[1.]\n"
     ]
    }
   ],
   "source": [
    "import pandas as pd\n",
    "from sklearn.feature_extraction.text import TfidfVectorizer\n",
    "from sklearn.metrics.pairwise import cosine_similarity\n",
    "import numpy as np\n",
    "\n",
    "# df = big_df.copy()\n",
    "\n",
    "# Create a combined text column\n",
    "# df[\"combined\"] = df[\"QueryText\"].astype(str) + \" \" + df[\"KccAns\"].astype(str)\n",
    "\n",
    "# To store filtered rows\n",
    "filtered_rows = []\n",
    "\n",
    "# Loop through each crop and disease\n",
    "for crop in df[\"Crop\"].unique():\n",
    "\n",
    "    crop_df = df[df[\"Crop\"] == crop]\n",
    "\n",
    "    for disease in crop_df[\"disease_name\"].unique():\n",
    "\n",
    "        temp_df2 = crop_df[crop_df[\"disease_name\"] == disease]\n",
    "\n",
    "        # for state in temp_df[\"StateName\"].unique():\n",
    "\n",
    "        # temp_df2 = temp_df[temp_df[\"StateName\"] == state].copy()\n",
    "\n",
    "        temp_df2 = temp_df2.reset_index(drop=True)\n",
    "        \n",
    "        # Copy of dataframe for comparison\n",
    "        compare_df = temp_df2.copy()\n",
    "        \n",
    "        to_keep_indices = []\n",
    "        \n",
    "        # Loop through each row in temp_df\n",
    "        for idx, row in temp_df2.iterrows():\n",
    "\n",
    "            if idx not in compare_df.index:\n",
    "                continue\n",
    "            \n",
    "            combined_text = row[\"vectors\"]\n",
    "            \n",
    "            if compare_df.empty:\n",
    "                break\n",
    "            \n",
    "            # Compute cosine similarity between current row and all rows in compare_df\n",
    "            # tfidf = TfidfVectorizer()\n",
    "            # texts = [combined_text] + compare_df[\"vectors\"].tolist()\n",
    "\n",
    "            compare_vectors = np.stack(compare_df[\"vectors\"].values) \n",
    "            # tfidf_matrix = tfidf.fit_transform(texts)\n",
    "            # cos_sim = cosine_similarity(texts[0:1], texts[1:]).flatten()\n",
    "\n",
    "            cos_sim = cosine_similarity(combined_text.reshape(1, -1), compare_vectors).flatten()\n",
    "            \n",
    "            # print(cos_sim)\n",
    "            # Keep current row\n",
    "            to_keep_indices.append(idx)\n",
    "            \n",
    "            # Delete rows in compare_df that are too similar (>0.75) and same exact Q+A\n",
    "            delete_indices = compare_df.index[(cos_sim > 0.90)]\n",
    "            \n",
    "            compare_df = compare_df.drop(delete_indices)\n",
    "        \n",
    "        filtered_rows.append(temp_df2.loc[to_keep_indices])\n",
    "\n",
    "# Combine all filtered data\n",
    "final_df_2 = pd.concat(filtered_rows).reset_index(drop=True)\n",
    "\n",
    "print(cos_sim)\n",
    "\n",
    "# print(final_df)\n"
   ]
  },
  {
   "cell_type": "code",
   "execution_count": 51,
   "id": "2204814c",
   "metadata": {},
   "outputs": [
    {
     "data": {
      "text/plain": [
       "37746"
      ]
     },
     "execution_count": 51,
     "metadata": {},
     "output_type": "execute_result"
    }
   ],
   "source": [
    "len(final_df_2)"
   ]
  },
  {
   "cell_type": "markdown",
   "id": "26f1c21b",
   "metadata": {},
   "source": [
    "#### Removing the last two columns of the final_df_2"
   ]
  },
  {
   "cell_type": "code",
   "execution_count": 52,
   "id": "1d92710a",
   "metadata": {},
   "outputs": [],
   "source": [
    "final_df_2 = final_df_2.iloc[:, :-2]"
   ]
  },
  {
   "cell_type": "code",
   "execution_count": 54,
   "id": "af216ac8",
   "metadata": {},
   "outputs": [
    {
     "data": {
      "text/html": [
       "<div>\n",
       "<style scoped>\n",
       "    .dataframe tbody tr th:only-of-type {\n",
       "        vertical-align: middle;\n",
       "    }\n",
       "\n",
       "    .dataframe tbody tr th {\n",
       "        vertical-align: top;\n",
       "    }\n",
       "\n",
       "    .dataframe thead th {\n",
       "        text-align: right;\n",
       "    }\n",
       "</style>\n",
       "<table border=\"1\" class=\"dataframe\">\n",
       "  <thead>\n",
       "    <tr style=\"text-align: right;\">\n",
       "      <th></th>\n",
       "      <th>DistrictName</th>\n",
       "      <th>StateName</th>\n",
       "      <th>Season</th>\n",
       "      <th>Month</th>\n",
       "      <th>disease_name</th>\n",
       "      <th>QueryText</th>\n",
       "      <th>KccAns</th>\n",
       "      <th>Crop</th>\n",
       "      <th>word_count</th>\n",
       "      <th>query_word_count</th>\n",
       "    </tr>\n",
       "  </thead>\n",
       "  <tbody>\n",
       "    <tr>\n",
       "      <th>0</th>\n",
       "      <td>ANANTNAG</td>\n",
       "      <td>JAMMU AND KASHMIR</td>\n",
       "      <td>JAYAD</td>\n",
       "      <td>June</td>\n",
       "      <td>Alternaria leaf blotch</td>\n",
       "      <td>CONTROL OF ALTERNARIA LEAF BLOTCH IN APPLE TREE</td>\n",
       "      <td>KEEP 60 CM SOIL AROUND TREES TRUNKS UNDISTURDED ON-SEASON</td>\n",
       "      <td>Apple</td>\n",
       "      <td>9</td>\n",
       "      <td>8</td>\n",
       "    </tr>\n",
       "    <tr>\n",
       "      <th>1</th>\n",
       "      <td>BARAMULLA</td>\n",
       "      <td>JAMMU AND KASHMIR</td>\n",
       "      <td>JAYAD</td>\n",
       "      <td>June</td>\n",
       "      <td>Alternaria leaf blotch</td>\n",
       "      <td>FARMER WANTS INFORMATION ABOUT THE CONTROL OF ALTERNARIA LEAF BLOTCH IN APPLE TREES</td>\n",
       "      <td>THE CONTROL OF ALTERNARIA LEAF BLOTCH IN APPLE TREES IS TO SPRAY WITH BITERTANOL 25 EC  50G100LTRS OF WATER</td>\n",
       "      <td>Apple</td>\n",
       "      <td>19</td>\n",
       "      <td>13</td>\n",
       "    </tr>\n",
       "    <tr>\n",
       "      <th>2</th>\n",
       "      <td>ANANTNAG</td>\n",
       "      <td>JAMMU AND KASHMIR</td>\n",
       "      <td>NaN</td>\n",
       "      <td>July</td>\n",
       "      <td>Alternaria leaf blotch</td>\n",
       "      <td>Farmer asked the query regarding problem alternaria leaf blotch in apple</td>\n",
       "      <td>It is advised to the farmer spray one of the following fungicides at fruit development stage 3rd Mancozeb 75 WP 300 g or Ziram 27 SC 600 ml or Zineb 75 WP  300 g or Ziram  80 WP  200 g  or Chlorothalonil 75 WP 150 g In case rainy weather hampers VII FD II spray Difenaconazole 25 EC  30 ml or Trifloxystrobin 25  Tebuconazole 50  75 WG  40g in 100 litres of water</td>\n",
       "      <td>Apple</td>\n",
       "      <td>73</td>\n",
       "      <td>11</td>\n",
       "    </tr>\n",
       "  </tbody>\n",
       "</table>\n",
       "</div>"
      ],
      "text/plain": [
       "  DistrictName          StateName Season Month            disease_name  \\\n",
       "0     ANANTNAG  JAMMU AND KASHMIR  JAYAD  June  Alternaria leaf blotch   \n",
       "1    BARAMULLA  JAMMU AND KASHMIR  JAYAD  June  Alternaria leaf blotch   \n",
       "2     ANANTNAG  JAMMU AND KASHMIR    NaN  July  Alternaria leaf blotch   \n",
       "\n",
       "                                                                             QueryText  \\\n",
       "0                                      CONTROL OF ALTERNARIA LEAF BLOTCH IN APPLE TREE   \n",
       "1  FARMER WANTS INFORMATION ABOUT THE CONTROL OF ALTERNARIA LEAF BLOTCH IN APPLE TREES   \n",
       "2             Farmer asked the query regarding problem alternaria leaf blotch in apple   \n",
       "\n",
       "                                                                                                                                                                                                                                                                                                                                                                         KccAns  \\\n",
       "0                                                                                                                                                                                                                                                                                                                     KEEP 60 CM SOIL AROUND TREES TRUNKS UNDISTURDED ON-SEASON   \n",
       "1                                                                                                                                                                                                                                                                   THE CONTROL OF ALTERNARIA LEAF BLOTCH IN APPLE TREES IS TO SPRAY WITH BITERTANOL 25 EC  50G100LTRS OF WATER   \n",
       "2  It is advised to the farmer spray one of the following fungicides at fruit development stage 3rd Mancozeb 75 WP 300 g or Ziram 27 SC 600 ml or Zineb 75 WP  300 g or Ziram  80 WP  200 g  or Chlorothalonil 75 WP 150 g In case rainy weather hampers VII FD II spray Difenaconazole 25 EC  30 ml or Trifloxystrobin 25  Tebuconazole 50  75 WG  40g in 100 litres of water    \n",
       "\n",
       "    Crop  word_count  query_word_count  \n",
       "0  Apple           9                 8  \n",
       "1  Apple          19                13  \n",
       "2  Apple          73                11  "
      ]
     },
     "execution_count": 54,
     "metadata": {},
     "output_type": "execute_result"
    }
   ],
   "source": [
    "final_df_2.head(3)"
   ]
  },
  {
   "cell_type": "markdown",
   "id": "7b35d7d3",
   "metadata": {},
   "source": [
    "#### Saving the csv file"
   ]
  },
  {
   "cell_type": "code",
   "execution_count": null,
   "id": "2419bfdc",
   "metadata": {},
   "outputs": [],
   "source": [
    "final_df_2.to_csv(\"./filtered_data2.csv\")"
   ]
  },
  {
   "cell_type": "code",
   "execution_count": null,
   "id": "8e4cf254",
   "metadata": {},
   "outputs": [],
   "source": [
    "import matplotlib.pyplot as plt\n",
    "\n",
    "# Histogram\n",
    "big_df[\"Crop\"].hist(bins=20, edgecolor=\"black\")\n",
    "\n",
    "plt.xlabel(\"Crops\")\n",
    "plt.ylabel(\"Frequency\")\n",
    "plt.title(\"Histogram of Crops\")\n",
    "plt.show()"
   ]
  }
 ],
 "metadata": {
  "kernelspec": {
   "display_name": "Python 3",
   "language": "python",
   "name": "python3"
  },
  "language_info": {
   "codemirror_mode": {
    "name": "ipython",
    "version": 3
   },
   "file_extension": ".py",
   "mimetype": "text/x-python",
   "name": "python",
   "nbconvert_exporter": "python",
   "pygments_lexer": "ipython3",
   "version": "3.10.0"
  }
 },
 "nbformat": 4,
 "nbformat_minor": 5
}
