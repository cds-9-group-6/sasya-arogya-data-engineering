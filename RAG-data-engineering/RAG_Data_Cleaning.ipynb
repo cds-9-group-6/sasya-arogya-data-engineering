{
 "cells": [
  {
   "cell_type": "code",
   "execution_count": 108,
   "id": "4136a561",
   "metadata": {},
   "outputs": [],
   "source": [
    "import pandas as pd\n",
    "import pandas as pd\n",
    "from langchain_openai import OpenAIEmbeddings\n",
    "from langchain_chroma import Chroma\n",
    "from langchain_groq import ChatGroq\n",
    "from langchain_community.chat_models import ChatOpenAI\n",
    "from langchain.docstore.document import Document\n",
    "from langchain_core.prompts import ChatPromptTemplate,PromptTemplate\n",
    "from langchain_community.vectorstores import chroma\n",
    "from langchain.text_splitter import RecursiveCharacterTextSplitter\n",
    "from langchain.llms import HuggingFacePipeline\n",
    "from langchain.embeddings import HuggingFaceEmbeddings\n",
    "from langchain_huggingface import HuggingFaceEndpoint\n",
    "from langchain import HuggingFacePipeline\n",
    "from transformers import pipeline\n",
    "# RAG Chain\n",
    "from langchain_core.output_parsers import StrOutputParser\n",
    "from langchain.chains import RetrievalQA\n",
    "from transformers import AutoModelForCausalLM,AutoTokenizer\n",
    "from transformers import AutoTokenizer, pipeline, AutoModelForCausalLM\n",
    "from langchain import HuggingFacePipeline\n",
    "import transformers\n",
    "import torch  \n",
    "import os\n",
    "from langchain_huggingface import HuggingFaceEmbeddings\n",
    "import calendar"
   ]
  },
  {
   "cell_type": "code",
   "execution_count": 109,
   "id": "6bb65f43",
   "metadata": {},
   "outputs": [],
   "source": [
    "crop_folders = os.listdir(r\".\\data\")"
   ]
  },
  {
   "cell_type": "code",
   "execution_count": 110,
   "id": "a430329a",
   "metadata": {},
   "outputs": [
    {
     "data": {
      "text/plain": [
       "['Apple', 'Coconut', 'Paddy', 'Potato', 'Tomato']"
      ]
     },
     "execution_count": 110,
     "metadata": {},
     "output_type": "execute_result"
    }
   ],
   "source": [
    "crop_folders"
   ]
  },
  {
   "cell_type": "markdown",
   "id": "9bf90840",
   "metadata": {},
   "source": [
    "#### Creating the Dataset from the folder structure"
   ]
  },
  {
   "cell_type": "code",
   "execution_count": null,
   "id": "7e50c778",
   "metadata": {},
   "outputs": [],
   "source": [
    "import os\n",
    "import pandas as pd\n",
    "\n",
    "# Path where these folders are located\n",
    "base_path = r\".\\data\"   # <-- change this to your actual root directory\n",
    "\n",
    "# Empty list to hold all DataFrames\n",
    "dfs = []\n",
    "\n",
    "# Loop through each folder\n",
    "for folder in crop_folders:\n",
    "    folder_path = os.path.join(base_path, folder)\n",
    "    \n",
    "    # Ensure folder exists\n",
    "    if os.path.isdir(folder_path):\n",
    "        # Loop through files in the folder\n",
    "        for file in os.listdir(folder_path):\n",
    "            if file.endswith(\".csv\"):   # only process CSV files\n",
    "                file_path = os.path.join(folder_path, file)\n",
    "                df = pd.read_csv(file_path)\n",
    "                \n",
    "                df[\"disease_name\"] = os.path.splitext(file)[0].split(folder + \"_\")[1].replace(\"_\",\" \")\n",
    "                \n",
    "                dfs.append(df)\n",
    "\n",
    "# Concatenate all DataFrames into one big DataFrame\n",
    "big_df = pd.concat(dfs, ignore_index=True)\n"
   ]
  },
  {
   "cell_type": "code",
   "execution_count": null,
   "id": "536b227f",
   "metadata": {},
   "outputs": [],
   "source": [
    "len(big_df)"
   ]
  },
  {
   "cell_type": "markdown",
   "id": "1d586799",
   "metadata": {},
   "source": [
    "#### Dropping the answer columns which are empty"
   ]
  },
  {
   "cell_type": "code",
   "execution_count": 112,
   "id": "8363a5de",
   "metadata": {},
   "outputs": [],
   "source": [
    "big_df = big_df.dropna(subset=\"KccAns\")"
   ]
  },
  {
   "cell_type": "markdown",
   "id": "e581df8f",
   "metadata": {},
   "source": [
    "#### Getting the Calender names from the month numbers"
   ]
  },
  {
   "cell_type": "code",
   "execution_count": 113,
   "id": "ff69a060",
   "metadata": {},
   "outputs": [],
   "source": [
    "\n",
    "big_df[\"Month\"] = big_df[\"Month\"].apply(lambda x: calendar.month_name[x])"
   ]
  },
  {
   "cell_type": "markdown",
   "id": "c934d181",
   "metadata": {},
   "source": [
    "#### Selecting only those columns to input into the vector DB"
   ]
  },
  {
   "cell_type": "code",
   "execution_count": null,
   "id": "daf0af34",
   "metadata": {},
   "outputs": [],
   "source": [
    "big_df = big_df[[\"DistrictName\",\"StateName\",\"Season\",\"Month\",\"disease_name\",\"QueryText\",\"KccAns\",\"Crop\"]]"
   ]
  },
  {
   "cell_type": "markdown",
   "id": "395d3079",
   "metadata": {},
   "source": [
    "#### Getting the word count of the answer column and filtering out which has empty spaces"
   ]
  },
  {
   "cell_type": "code",
   "execution_count": null,
   "id": "6b11507b",
   "metadata": {},
   "outputs": [],
   "source": [
    "big_df[\"word_count\"] = big_df[\"KccAns\"].astype(str).apply(lambda x: len(x.split()))\n",
    "\n",
    "print(big_df[[\"KccAns\", \"word_count\"]].head())"
   ]
  },
  {
   "cell_type": "code",
   "execution_count": null,
   "id": "9566d4b7",
   "metadata": {},
   "outputs": [],
   "source": [
    "big_df = big_df[big_df[\"word_count\"]>1]"
   ]
  },
  {
   "cell_type": "code",
   "execution_count": null,
   "id": "c6b5f728",
   "metadata": {},
   "outputs": [],
   "source": [
    "len(big_df)"
   ]
  },
  {
   "cell_type": "code",
   "execution_count": null,
   "id": "d4fe9ebd",
   "metadata": {},
   "outputs": [],
   "source": [
    "# Display all rows\n",
    "pd.set_option('display.max_rows', None)\n",
    "\n",
    "# Display full column width (not truncated)\n",
    "pd.set_option('display.max_colwidth', None)"
   ]
  },
  {
   "cell_type": "markdown",
   "id": "c9f72c26",
   "metadata": {},
   "source": [
    "#### Dropping all the duplicate rows present in the dataframe"
   ]
  },
  {
   "cell_type": "code",
   "execution_count": null,
   "id": "415fb1c8",
   "metadata": {},
   "outputs": [],
   "source": [
    "big_df = big_df.drop_duplicates()"
   ]
  },
  {
   "cell_type": "markdown",
   "id": "22326a1d",
   "metadata": {},
   "source": [
    "#### Selecting again only those duplicates present for \"StateName\",\"QueryText\",\"KccAns\""
   ]
  },
  {
   "cell_type": "code",
   "execution_count": null,
   "id": "89f5bd0b",
   "metadata": {},
   "outputs": [],
   "source": [
    "big_df= big_df.drop_duplicates([\"StateName\",\"QueryText\",\"KccAns\"])"
   ]
  },
  {
   "cell_type": "markdown",
   "id": "54426ec0",
   "metadata": {},
   "source": [
    "#### Filtering the rows which only have numbers in them"
   ]
  },
  {
   "cell_type": "code",
   "execution_count": null,
   "id": "a373a35a",
   "metadata": {},
   "outputs": [],
   "source": [
    "def row_only_digits(row):\n",
    "    return all(word.isdigit() for word in row.split())\n",
    "\n",
    "# Apply to the column\n",
    "big_df = big_df[~big_df[\"KccAns\"].apply(row_only_digits)]"
   ]
  },
  {
   "cell_type": "code",
   "execution_count": null,
   "id": "c16f1978",
   "metadata": {},
   "outputs": [],
   "source": [
    "len(big_df)"
   ]
  },
  {
   "cell_type": "markdown",
   "id": "b4a07011",
   "metadata": {},
   "source": [
    "#### Getting the word count for the queries"
   ]
  },
  {
   "cell_type": "code",
   "execution_count": null,
   "id": "a6bddd46",
   "metadata": {},
   "outputs": [],
   "source": [
    "big_df[\"query_word_count\"] = big_df[\"QueryText\"].astype(str).apply(lambda x: len(x.split()))\n",
    "\n",
    "# print(big_df[[\"KccAns\", \"word_count\"]].head())"
   ]
  },
  {
   "cell_type": "markdown",
   "id": "87913c8d",
   "metadata": {},
   "source": [
    "#### Getting the rows whuch have a word count greater than 2 in the query "
   ]
  },
  {
   "cell_type": "code",
   "execution_count": null,
   "id": "0f3693cd",
   "metadata": {},
   "outputs": [],
   "source": [
    "big_df = big_df[big_df[\"query_word_count\"]>2]"
   ]
  },
  {
   "cell_type": "markdown",
   "id": "1f357a81",
   "metadata": {},
   "source": [
    "#### Reseting the index"
   ]
  },
  {
   "cell_type": "code",
   "execution_count": null,
   "id": "ebe321fb",
   "metadata": {},
   "outputs": [],
   "source": [
    "big_df.reset_index(inplace=True,drop=True)"
   ]
  },
  {
   "cell_type": "code",
   "execution_count": null,
   "id": "3acd6bc0",
   "metadata": {},
   "outputs": [],
   "source": [
    "big_df.head(2)"
   ]
  },
  {
   "cell_type": "code",
   "execution_count": null,
   "id": "60fcc025",
   "metadata": {},
   "outputs": [],
   "source": [
    "len(big_df)"
   ]
  },
  {
   "cell_type": "markdown",
   "id": "3d324454",
   "metadata": {},
   "source": [
    "#### Creating the TF-IDF cosine similarity to filter out rows which are more than 65% similar"
   ]
  },
  {
   "cell_type": "code",
   "execution_count": null,
   "id": "092962b4",
   "metadata": {},
   "outputs": [],
   "source": [
    "import pandas as pd\n",
    "from sklearn.feature_extraction.text import TfidfVectorizer\n",
    "from sklearn.metrics.pairwise import cosine_similarity\n",
    "\n",
    "df = big_df.copy()\n",
    "\n",
    "# Create a combined text column\n",
    "df[\"combined\"] = df[\"QueryText\"].astype(str) + \" \" + df[\"KccAns\"].astype(str)\n",
    "\n",
    "# To store filtered rows\n",
    "filtered_rows = []\n",
    "\n",
    "# Loop through each crop and disease\n",
    "for crop in df[\"Crop\"].unique():\n",
    "    crop_df = df[df[\"Crop\"] == crop]\n",
    "    for disease in crop_df[\"disease_name\"].unique():\n",
    "        temp_df = crop_df[crop_df[\"disease_name\"] == disease].copy()\n",
    "        temp_df = temp_df.reset_index(drop=True)\n",
    "        \n",
    "        # Copy of dataframe for comparison\n",
    "        compare_df = temp_df.copy()\n",
    "        \n",
    "        to_keep_indices = []\n",
    "        \n",
    "        # Loop through each row in temp_df\n",
    "        for idx, row in temp_df.iterrows():\n",
    "\n",
    "            if idx not in compare_df.index:\n",
    "                continue\n",
    "            \n",
    "            combined_text = row[\"combined\"]\n",
    "            \n",
    "            if compare_df.empty:\n",
    "                break\n",
    "            \n",
    "            # Compute cosine similarity between current row and all rows in compare_df\n",
    "            tfidf = TfidfVectorizer()\n",
    "            texts = [combined_text] + compare_df[\"combined\"].tolist()\n",
    "            tfidf_matrix = tfidf.fit_transform(texts)\n",
    "            cos_sim = cosine_similarity(tfidf_matrix[0:1], tfidf_matrix[1:]).flatten()\n",
    "            \n",
    "            # Keep current row\n",
    "            to_keep_indices.append(idx)\n",
    "            \n",
    "            # Delete rows in compare_df that are too similar (>0.75) and same exact Q+A\n",
    "            delete_indices = compare_df.index[(cos_sim > 0.65) |\n",
    "                                              (compare_df[\"combined\"] == combined_text)]\n",
    "            compare_df = compare_df.drop(delete_indices)\n",
    "        \n",
    "        filtered_rows.append(temp_df.loc[to_keep_indices])\n",
    "\n",
    "# Combine all filtered data\n",
    "final_df = pd.concat(filtered_rows).reset_index(drop=True)\n",
    "\n",
    "print(cos_sim)\n",
    "\n",
    "# print(final_df)\n"
   ]
  },
  {
   "cell_type": "code",
   "execution_count": 106,
   "id": "9a6b178c",
   "metadata": {},
   "outputs": [
    {
     "data": {
      "text/plain": [
       "53872"
      ]
     },
     "execution_count": 106,
     "metadata": {},
     "output_type": "execute_result"
    }
   ],
   "source": [
    "len(final_df)\n"
   ]
  },
  {
   "cell_type": "markdown",
   "id": "7b35d7d3",
   "metadata": {},
   "source": [
    "#### Saving the csv file"
   ]
  },
  {
   "cell_type": "code",
   "execution_count": null,
   "id": "2419bfdc",
   "metadata": {},
   "outputs": [],
   "source": [
    "final_df.to_csv(\"./filtered_data.csv\")"
   ]
  },
  {
   "cell_type": "code",
   "execution_count": null,
   "id": "8e4cf254",
   "metadata": {},
   "outputs": [],
   "source": [
    "import matplotlib.pyplot as plt\n",
    "\n",
    "# Histogram\n",
    "big_df[\"Crop\"].hist(bins=20, edgecolor=\"black\")\n",
    "\n",
    "plt.xlabel(\"Crops\")\n",
    "plt.ylabel(\"Frequency\")\n",
    "plt.title(\"Histogram of Crops\")\n",
    "plt.show()"
   ]
  }
 ],
 "metadata": {
  "kernelspec": {
   "display_name": "Python 3",
   "language": "python",
   "name": "python3"
  },
  "language_info": {
   "codemirror_mode": {
    "name": "ipython",
    "version": 3
   },
   "file_extension": ".py",
   "mimetype": "text/x-python",
   "name": "python",
   "nbconvert_exporter": "python",
   "pygments_lexer": "ipython3",
   "version": "3.10.0"
  }
 },
 "nbformat": 4,
 "nbformat_minor": 5
}
